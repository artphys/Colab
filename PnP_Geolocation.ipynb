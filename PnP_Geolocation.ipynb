{
  "nbformat": 4,
  "nbformat_minor": 0,
  "metadata": {
    "colab": {
      "provenance": [],
      "authorship_tag": "ABX9TyPpytISXHDtWLDCfvC9ZBpI",
      "include_colab_link": true
    },
    "kernelspec": {
      "name": "python3",
      "display_name": "Python 3"
    },
    "language_info": {
      "name": "python"
    }
  },
  "cells": [
    {
      "cell_type": "markdown",
      "metadata": {
        "id": "view-in-github",
        "colab_type": "text"
      },
      "source": [
        "<a href=\"https://colab.research.google.com/github/artphys/Colab/blob/main/PnP_Geolocation.ipynb\" target=\"_parent\"><img src=\"https://colab.research.google.com/assets/colab-badge.svg\" alt=\"Open In Colab\"/></a>"
      ]
    },
    {
      "cell_type": "code",
      "execution_count": 443,
      "metadata": {
        "id": "w2TBUB2LaB4c"
      },
      "outputs": [],
      "source": [
        "import cv2\n",
        "import numpy as np\n",
        "from google.colab.patches import cv2_imshow "
      ]
    },
    {
      "cell_type": "code",
      "source": [
        "import matplotlib.pyplot as plt"
      ],
      "metadata": {
        "id": "eeyfh2Z0aHSB"
      },
      "execution_count": 444,
      "outputs": []
    },
    {
      "cell_type": "code",
      "source": [
        "\n",
        "points = np.asanyarray(\n",
        "        [(402.53841229193335493619088083506, 1042.8969270166453497949987649918),\n",
        "        (739.0592563903950349413207732141,   737.46669248644434446759987622499),\n",
        "        (1064.4752130131680587510345503688,  436.04453911696316481538815423846),\n",
        "        (1445.3768396591788132354849949479,  768.95855925639011729799676686525),\n",
        "        (1853.2714949651433471444761380553,  373.06080557707161915459437295794),\n",
        "        (1497.8632842757549497036961838603,  20.651820294345468628969790859799)]\n",
        "        )\n",
        "\n",
        "points_2D = points"
      ],
      "metadata": {
        "id": "jtzJsolldvRr"
      },
      "execution_count": 445,
      "outputs": []
    },
    {
      "cell_type": "code",
      "source": [
        "x, y = zip(*points_2D)\n",
        "plt.scatter(x, y)\n",
        "plt.plot(x, y)"
      ],
      "metadata": {
        "colab": {
          "base_uri": "https://localhost:8080/",
          "height": 282
        },
        "id": "d91bsAX2xt52",
        "outputId": "14402f06-f162-4103-cb13-d2b83e7bd0be"
      },
      "execution_count": 446,
      "outputs": [
        {
          "output_type": "execute_result",
          "data": {
            "text/plain": [
              "[<matplotlib.lines.Line2D at 0x7f32f4825cd0>]"
            ]
          },
          "metadata": {},
          "execution_count": 446
        },
        {
          "output_type": "display_data",
          "data": {
            "text/plain": [
              "<Figure size 432x288 with 1 Axes>"
            ],
            "image/png": "[encoded data removed]"
          },
          "metadata": {
            "needs_background": "light"
          }
        }
      ]
    },
    {
      "cell_type": "code",
      "source": [
        "x, y, z = np.zeros(6), np.zeros(6), np.zeros(6)\n",
        "# FROM AERIAL IMAGERY:  world points must be converted to ECEF  \n",
        "\n",
        "\n",
        "#points_lla = np.asanyarray(\n",
        "#        [(31.5944594,34.6125853,83.1465369),\n",
        "#        (31.5946889,34.6125481,82.574187 ),\n",
        "#        (31.5945089,34.6123806,83.1020015),\n",
        "#        (31.5945264,34.6123929,83.0722942),\n",
        "#        (31.5945082,34.6121296,82.6599009),\n",
        "#        (31.5944436,34.611917 ,82.4766086)]\n",
        "#       )\n",
        "\n",
        "points_lla = np.asanyarray(\n",
        "        [(31.59443,34.61249,82.0),\n",
        "        ( 31.59444,34.61230,82.0 ),\n",
        "        ( 31.59444,34.61209,82.0),\n",
        "        ( 31.59463,34.61209,82.0),\n",
        "        ( 31.59463,34.61185,82.0),\n",
        "        ( 31.59444,34.61186 ,82.0)]\n",
        "        )\n",
        "\n",
        "#x[0],y[0],z[0] = lla2ecef(31.5944594*np.pi/180,34.6125853*np.pi/180,83.1465369)\n",
        "#x[1],y[1],z[1] = lla2ecef(31.5946889*np.pi/180,34.6125481*np.pi/180,82.574187 )\n",
        "#x[2],y[2],z[2] = lla2ecef(31.5945089*np.pi/180,34.6123806*np.pi/180,83.1020015)\n",
        "#x[3],y[3],z[3] = lla2ecef(31.5945264*np.pi/180,34.6123929*np.pi/180,83.0722942)\n",
        "#x[4],y[4],z[4] = lla2ecef(31.5945082*np.pi/180,34.6121296*np.pi/180,82.6599009)\n",
        "#x[5],y[5],z[5] = lla2ecef(31.5944436*np.pi/180,34.611917 *np.pi/180,82.4766086)\n",
        "\n",
        "x[0],y[0],z[0] = lla2ecef(31.59443*np.pi/180,34.61249*np.pi/180,82.0)\n",
        "x[1],y[1],z[1] = lla2ecef(31.59444*np.pi/180,34.61230*np.pi/180,82.0 )\n",
        "x[2],y[2],z[2] = lla2ecef(31.59444*np.pi/180,34.61209*np.pi/180,82.0)\n",
        "x[3],y[3],z[3] = lla2ecef(31.59463*np.pi/180,34.61209*np.pi/180,82.0)\n",
        "x[4],y[4],z[4] = lla2ecef(31.59463*np.pi/180,34.61185*np.pi/180,82.0)\n",
        "x[5],y[5],z[5] = lla2ecef(31.59444*np.pi/180,34.61186*np.pi/180,82.0)\n",
        "\n",
        "points_3D = np.array([(x[i], y[i], z[i]) for i in range(len(x))])"
      ],
      "metadata": {
        "id": "p8_0nhMYvGT6"
      },
      "execution_count": 447,
      "outputs": []
    },
    {
      "cell_type": "code",
      "source": [
        "\n",
        "def lla2ecef(lat,lon,alt):\n",
        "    # %WGS84 ellipsoid constants:\n",
        "    a = 6378137\n",
        "    e = 8.1819190842622e-2\n",
        "\n",
        "    # intermediate calculation\n",
        "    # (prime vertical radius of curvature)\n",
        "    N = np.divide(a , np.sqrt(1- np.multiply(e**2, np.power(np.sin(lat), 2))))\n",
        "\n",
        "    # results:\n",
        "    x = np.multiply((N+alt) , np.multiply(np.cos(lat), np.cos(lon)))\n",
        "    y = np.multiply((N+alt), np.multiply(np.cos(lat), np.sin(lon)))\n",
        "    z = np.multiply(np.multiply((1-e**2), N) + alt, np.sin(lat))\n",
        "\n",
        "    return x, y, z"
      ],
      "metadata": {
        "id": "dhhXa0NBpBT9"
      },
      "execution_count": 448,
      "outputs": []
    },
    {
      "cell_type": "code",
      "source": [
        "    fx = 1100.7622070312500\n",
        "    fy = 1102.0703125000000\n",
        "    cx = 494.43371582031250\n",
        "    cy = 311.53576660156250\n",
        "    s = 0\n",
        "\n",
        "    IntrinsicMatrix = np.matrix([(fx, 0, 0), (s, fy, 0), (cx, cy, 1)])"
      ],
      "metadata": {
        "id": "IvsA2rG6thHl"
      },
      "execution_count": 449,
      "outputs": []
    },
    {
      "cell_type": "code",
      "source": [
        "    k2 = 0.15480099999999999\n",
        "    k4 = -0.051244999999999999\n",
        "    radialDistortion = np.matrix([k2, k4, 0.0, 0.0])"
      ],
      "metadata": {
        "id": "X7728eIBtho3"
      },
      "execution_count": 450,
      "outputs": []
    },
    {
      "cell_type": "code",
      "source": [
        "success, rotation_vector, translation_vector = cv2.solvePnP(points_3D, points_2D, IntrinsicMatrix, radialDistortion, flags=0)\n",
        "rotation_vector, translation_vector = cv2.solvePnPRefineLM(points_3D, points_2D, IntrinsicMatrix, radialDistortion, rotation_vector, translation_vector)\n"
      ],
      "metadata": {
        "id": "bJDmR6Aet0c6"
      },
      "execution_count": 451,
      "outputs": []
    },
    {
      "cell_type": "code",
      "source": [
        "success, rotation_vector, translation_vector"
      ],
      "metadata": {
        "colab": {
          "base_uri": "https://localhost:8080/"
        },
        "id": "8LXORd8qwoJh",
        "outputId": "bd356e78-569c-4f08-be5e-166bae3aadc6"
      },
      "execution_count": 452,
      "outputs": [
        {
          "output_type": "execute_result",
          "data": {
            "text/plain": [
              "(True, array([[-1.32061848],\n",
              "        [ 1.79347836],\n",
              "        [ 0.21285583]]), array([[1048834.70225471],\n",
              "        [-161070.57973721],\n",
              "        [6283472.25179637]]))"
            ]
          },
          "metadata": {},
          "execution_count": 452
        }
      ]
    },
    {
      "cell_type": "code",
      "source": [
        "np_rodrigues = np.asarray(rotation_vector[:,:],np.float64)\n",
        "rmat = cv2.Rodrigues(np_rodrigues)[0]\n",
        "camera_position = np.array( -np.matrix(rmat).T @ np.matrix(translation_vector))"
      ],
      "metadata": {
        "id": "qqUz78AAwu1l"
      },
      "execution_count": 453,
      "outputs": []
    },
    {
      "cell_type": "code",
      "source": [
        "print (camera_position)"
      ],
      "metadata": {
        "colab": {
          "base_uri": "https://localhost:8080/"
        },
        "id": "J5JTpGQczBht",
        "outputId": "ea2be5a5-909a-43a6-f83b-673f33838ed0"
      },
      "execution_count": 454,
      "outputs": [
        {
          "output_type": "stream",
          "name": "stdout",
          "text": [
            "[[4475470.22372849]\n",
            " [3088825.57364855]\n",
            " [3322249.89359619]]\n"
          ]
        }
      ]
    },
    {
      "cell_type": "code",
      "source": [
        "import pyproj\n",
        "\n",
        "x = camera_position[0][0]\n",
        "y = camera_position[1][0]\n",
        "z = camera_position[2][0]\n",
        "\n",
        "cam_pos_ecef = [x, y, z]\n",
        "\n",
        "print (x)\n",
        "\n",
        "ecef = pyproj.Proj(proj='geocent', ellps='WGS84', datum='WGS84')\n",
        "lla = pyproj.Proj(proj='latlong', ellps='WGS84', datum='WGS84')\n",
        "lon, lat, alt = pyproj.transform(ecef, lla, x, y, z, radians=True)\n",
        "\n",
        "print (lat*180.0/np.pi, lon*180.0/np.pi, alt)"
      ],
      "metadata": {
        "colab": {
          "base_uri": "https://localhost:8080/"
        },
        "id": "WT6awOWMzS3I",
        "outputId": "97c7fe0a-e17a-4a71-ebe9-15ad31633140"
      },
      "execution_count": 455,
      "outputs": [
        {
          "output_type": "stream",
          "name": "stdout",
          "text": [
            "4475470.223728487\n",
            "31.594081846876517 34.612189480566535 139.10074221063405\n"
          ]
        },
        {
          "output_type": "stream",
          "name": "stderr",
          "text": [
            "<ipython-input-455-481e0424ce47>:14: FutureWarning:\n",
            "\n",
            "This function is deprecated. See: https://pyproj4.github.io/pyproj/stable/gotchas.html#upgrading-to-pyproj-2-from-pyproj-1\n",
            "\n"
          ]
        }
      ]
    },
    {
      "cell_type": "code",
      "source": [
        "x, y, z= zip(*points_lla)\n",
        "plt.scatter(x, y)\n",
        "plt.plot(x, y)\n",
        "plt.scatter(lat*180/np.pi, lon*180/np.pi)"
      ],
      "metadata": {
        "colab": {
          "base_uri": "https://localhost:8080/",
          "height": 306
        },
        "id": "kJfkYcmJzshi",
        "outputId": "a3d1c647-a816-478c-e4e5-c275c51a9883"
      },
      "execution_count": 456,
      "outputs": [
        {
          "output_type": "execute_result",
          "data": {
            "text/plain": [
              "<matplotlib.collections.PathCollection at 0x7f32f479f280>"
            ]
          },
          "metadata": {},
          "execution_count": 456
        },
        {
          "output_type": "display_data",
          "data": {
            "text/plain": [
              "<Figure size 432x288 with 1 Axes>"
            ],
            "image/png": "[encoded data removed]"
          },
          "metadata": {
            "needs_background": "light"
          }
        }
      ]
    },
    {
      "cell_type": "code",
      "source": [
        "projected_points, _ = cv2.projectPoints(points_3D, rotation_vector, translation_vector, IntrinsicMatrix, radialDistortion)"
      ],
      "metadata": {
        "id": "ro6IzS2VKKy-"
      },
      "execution_count": 457,
      "outputs": []
    },
    {
      "cell_type": "code",
      "source": [
        "points_proj = projected_points[:, 0]"
      ],
      "metadata": {
        "id": "hJQw7GYFPyJp"
      },
      "execution_count": 458,
      "outputs": []
    },
    {
      "cell_type": "code",
      "source": [
        "x, y= zip(*points_proj)\n",
        "plt.scatter(x, y)\n",
        "plt.plot(x, y)\n",
        "\n",
        "x, y = zip(*points_2D)\n",
        "plt.scatter(x, y, color = 'red')\n",
        "plt.plot(x, y, color = 'red')"
      ],
      "metadata": {
        "colab": {
          "base_uri": "https://localhost:8080/",
          "height": 282
        },
        "id": "x4b2jsulPMAV",
        "outputId": "89347b93-cc6d-4119-93e6-63dff4edc7c2"
      },
      "execution_count": 459,
      "outputs": [
        {
          "output_type": "execute_result",
          "data": {
            "text/plain": [
              "[<matplotlib.lines.Line2D at 0x7f32f470b7f0>]"
            ]
          },
          "metadata": {},
          "execution_count": 459
        },
        {
          "output_type": "display_data",
          "data": {
            "text/plain": [
              "<Figure size 432x288 with 1 Axes>"
            ],
            "image/png": "[encoded data removed]"
          },
          "metadata": {
            "needs_background": "light"
          }
        }
      ]
    },
    {
      "cell_type": "code",
      "source": [],
      "metadata": {
        "id": "k1elCy1dzvpI"
      },
      "execution_count": 442,
      "outputs": []
    },
    {
      "cell_type": "code",
      "source": [],
      "metadata": {
        "id": "gBcLXXB02oUT"
      },
      "execution_count": 426,
      "outputs": []
    }
  ]
}