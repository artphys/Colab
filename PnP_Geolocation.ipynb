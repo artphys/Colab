{
  "nbformat": 4,
  "nbformat_minor": 0,
  "metadata": {
    "colab": {
      "provenance": [],
      "authorship_tag": "ABX9TyOO8qwOtnEZgii8B1hKelAO",
      "include_colab_link": true
    },
    "kernelspec": {
      "name": "python3",
      "display_name": "Python 3"
    },
    "language_info": {
      "name": "python"
    }
  },
  "cells": [
    {
      "cell_type": "markdown",
      "metadata": {
        "id": "view-in-github",
        "colab_type": "text"
      },
      "source": [
        "<a href=\"https://colab.research.google.com/github/artphys/Colab/blob/main/PnP_Geolocation.ipynb\" target=\"_parent\"><img src=\"https://colab.research.google.com/assets/colab-badge.svg\" alt=\"Open In Colab\"/></a>"
      ]
    },
    {
      "cell_type": "code",
      "execution_count": 553,
      "metadata": {
        "id": "w2TBUB2LaB4c"
      },
      "outputs": [],
      "source": [
        "import cv2\n",
        "import numpy as np\n",
        "from google.colab.patches import cv2_imshow "
      ]
    },
    {
      "cell_type": "code",
      "source": [
        "import matplotlib.pyplot as plt"
      ],
      "metadata": {
        "id": "eeyfh2Z0aHSB"
      },
      "execution_count": 554,
      "outputs": []
    },
    {
      "cell_type": "code",
      "source": [
        "points_2D = np.asanyarray(\n",
        "        [(402.53841229193335493619088083506, 1042.8969270166453497949987649918),\n",
        "        (739.0592563903950349413207732141,   737.46669248644434446759987622499),\n",
        "        (1064.4752130131680587510345503688,  436.04453911696316481538815423846),\n",
        "        (1445.3768396591788132354849949479,  768.95855925639011729799676686525),\n",
        "        (1853.2714949651433471444761380553,  373.06080557707161915459437295794),\n",
        "        (1497.8632842757549497036961838603,  20.651820294345468628969790859799)]\n",
        "        )"
      ],
      "metadata": {
        "id": "jtzJsolldvRr"
      },
      "execution_count": 555,
      "outputs": []
    },
    {
      "cell_type": "code",
      "source": [
        "def plot_points (points, color='blue'):\n",
        "  \n",
        "    if points.shape[1] == 2:\n",
        "        x, y = zip(*points)\n",
        "    else:\n",
        "        x, y, z = zip(*points)\n",
        "    plt.scatter(x, y, color = color)\n",
        "    plt.plot   (x, y, color = color)"
      ],
      "metadata": {
        "id": "d91bsAX2xt52"
      },
      "execution_count": 556,
      "outputs": []
    },
    {
      "cell_type": "code",
      "source": [
        "plot_points(points_2D)"
      ],
      "metadata": {
        "colab": {
          "base_uri": "https://localhost:8080/",
          "height": 265
        },
        "id": "rcEYquAJAnDb",
        "outputId": "0937068e-a4b8-4b27-a8c1-806e3a891051"
      },
      "execution_count": 557,
      "outputs": [
        {
          "output_type": "display_data",
          "data": {
            "text/plain": [
              "<Figure size 432x288 with 1 Axes>"
            ],
            "image/png": "[encoded data removed]"
          },
          "metadata": {
            "needs_background": "light"
          }
        }
      ]
    },
    {
      "cell_type": "code",
      "source": [
        "from pyproj import CRS\n",
        "from pyproj import Transformer\n",
        "\n",
        "ecef = CRS(proj='geocent', ellps='WGS84', datum='WGS84')\n",
        "lla =  CRS(proj='latlong', ellps='WGS84', datum='WGS84')\n",
        "ecef2lla = Transformer.from_crs(ecef, lla)\n",
        "lla2ecef = Transformer.from_crs(lla, ecef)"
      ],
      "metadata": {
        "id": "sGlmHqOgAyU6"
      },
      "execution_count": 576,
      "outputs": []
    },
    {
      "cell_type": "code",
      "source": [
        "\n",
        "# FROM AERIAL IMAGERY:  world points must be converted to ECEF  \n",
        "\n",
        "points_lla = np.asanyarray(\n",
        "        [(31.59443,34.61249,82.0),\n",
        "        ( 31.59444,34.61230,82.0),\n",
        "        ( 31.59444,34.61209,82.0),\n",
        "        ( 31.59463,34.61209,82.0),\n",
        "        ( 31.59463,34.61185,82.0),\n",
        "        ( 31.59444,34.61186,82.0)]\n",
        "        )\n",
        "\n",
        "lat_arr, lon_arr, alt_arr = points_lla[:, 0], points_lla[:, 1], points_lla[:, 2]\n",
        "\n",
        "x, y, z = lla2ecef.transform(lat_arr*np.pi/180, lon_arr*np.pi/180, alt_arr, radians = True)\n",
        "\n",
        "points_3D = np.array(list(zip(x, y, z)))"
      ],
      "metadata": {
        "id": "p8_0nhMYvGT6"
      },
      "execution_count": 610,
      "outputs": []
    },
    {
      "cell_type": "code",
      "source": [],
      "metadata": {
        "id": "3zqguGizNDbn"
      },
      "execution_count": 611,
      "outputs": []
    },
    {
      "cell_type": "code",
      "source": [
        "fx = 1100.7622070312500\n",
        "fy = 1102.0703125000000\n",
        "cx = 494.43371582031250\n",
        "cy = 311.53576660156250\n",
        "s = 0\n",
        "\n",
        "IntrinsicMatrix = np.matrix([(fx, 0, 0), (s, fy, 0), (cx, cy, 1)])"
      ],
      "metadata": {
        "id": "IvsA2rG6thHl"
      },
      "execution_count": 612,
      "outputs": []
    },
    {
      "cell_type": "code",
      "source": [
        "k2 = 0.15480099999999999\n",
        "k4 = -0.051244999999999999\n",
        "radialDistortion = np.matrix([k2, k4, 0.0, 0.0])"
      ],
      "metadata": {
        "id": "X7728eIBtho3"
      },
      "execution_count": 613,
      "outputs": []
    },
    {
      "cell_type": "code",
      "source": [
        "success, rotation_vector, translation_vector = cv2.solvePnP(points_3D, points_2D, IntrinsicMatrix, radialDistortion, flags=0)\n",
        "#rotation_vector, translation_vector = cv2.solvePnPRefineLM(points_3D, points_2D, IntrinsicMatrix, radialDistortion, rotation_vector, translation_vector)\n"
      ],
      "metadata": {
        "id": "bJDmR6Aet0c6"
      },
      "execution_count": 656,
      "outputs": []
    },
    {
      "cell_type": "code",
      "source": [
        "print ('SUCCESS : ', success, '\\n\\n', 'ROTATION : \\n', rotation_vector, '\\n\\n', 'TRANSLATION : \\n',translation_vector)"
      ],
      "metadata": {
        "colab": {
          "base_uri": "https://localhost:8080/"
        },
        "id": "8LXORd8qwoJh",
        "outputId": "64b5c892-8d53-43ab-c0fb-e56afa85b06f"
      },
      "execution_count": 657,
      "outputs": [
        {
          "output_type": "stream",
          "name": "stdout",
          "text": [
            "SUCCESS :  True \n",
            "\n",
            " ROTATION : \n",
            " [[-0.22298361]\n",
            " [-0.87435286]\n",
            " [-1.24537756]] \n",
            "\n",
            " TRANSLATION : \n",
            " [[-1047846.76319531]\n",
            " [  188658.19886222]\n",
            " [-6281704.70657819]]\n"
          ]
        }
      ]
    },
    {
      "cell_type": "code",
      "source": [
        "np_rodrigues = np.asarray(rotation_vector[:,:],np.float64)\n",
        "rmat = cv2.Rodrigues(np_rodrigues)[0]\n",
        "camera_position = np.array( -np.matrix(rmat).T @ np.matrix(translation_vector))"
      ],
      "metadata": {
        "id": "qqUz78AAwu1l"
      },
      "execution_count": 658,
      "outputs": []
    },
    {
      "cell_type": "code",
      "source": [
        "print (camera_position)"
      ],
      "metadata": {
        "colab": {
          "base_uri": "https://localhost:8080/"
        },
        "id": "J5JTpGQczBht",
        "outputId": "bdc0dd7a-82ca-479e-9b86-9468290e5496"
      },
      "execution_count": 659,
      "outputs": [
        {
          "output_type": "stream",
          "name": "stdout",
          "text": [
            "[[4476115.49175787]\n",
            " [2753071.57281512]\n",
            " [3602551.28973701]]\n"
          ]
        }
      ]
    },
    {
      "cell_type": "code",
      "source": [
        "\n",
        "c_lat, c_lon, c_alt = ecef2lla.transform (camera_position[0], camera_position[1], camera_position[2], radians=True)\n",
        "camera_position_lla = np.array([[c_lat*180/np.pi, c_lon*180/np.pi, c_alt]])"
      ],
      "metadata": {
        "id": "4MP1nhlAIIlI"
      },
      "execution_count": 660,
      "outputs": []
    },
    {
      "cell_type": "code",
      "source": [
        "plot_points(points_lla)\n",
        "plot_points(camera_position_lla, color = 'orange')\n",
        "plt.show()\n",
        "plot_points(points_lla[:, [0, 2, 1]])\n",
        "plot_points(camera_position_lla[:, [0, 2, 1]], color = 'orange')"
      ],
      "metadata": {
        "colab": {
          "base_uri": "https://localhost:8080/",
          "height": 550
        },
        "id": "kJfkYcmJzshi",
        "outputId": "095623ef-3132-4df0-bc1d-90fba2376e89"
      },
      "execution_count": 666,
      "outputs": [
        {
          "output_type": "display_data",
          "data": {
            "text/plain": [
              "<Figure size 432x288 with 1 Axes>"
            ],
            "image/png": "[encoded data removed]"
          },
          "metadata": {
            "needs_background": "light"
          }
        },
        {
          "output_type": "display_data",
          "data": {
            "text/plain": [
              "<Figure size 432x288 with 1 Axes>"
            ],
            "image/png": "[encoded data removed]"
          },
          "metadata": {
            "needs_background": "light"
          }
        }
      ]
    },
    {
      "cell_type": "code",
      "source": [
        "projected_points, _ = cv2.projectPoints(points_3D, rotation_vector, translation_vector, IntrinsicMatrix, radialDistortion)\n",
        "projected_points    = projected_points[:, 0]"
      ],
      "metadata": {
        "id": "ro6IzS2VKKy-"
      },
      "execution_count": 663,
      "outputs": []
    },
    {
      "cell_type": "code",
      "source": [
        "plot_points(points_2D, color = 'red')\n",
        "plot_points(projected_points, color = 'blue')"
      ],
      "metadata": {
        "colab": {
          "base_uri": "https://localhost:8080/",
          "height": 265
        },
        "id": "x4b2jsulPMAV",
        "outputId": "720b7d03-73da-4f17-e408-10c4bd4a3248"
      },
      "execution_count": 664,
      "outputs": [
        {
          "output_type": "display_data",
          "data": {
            "text/plain": [
              "<Figure size 432x288 with 1 Axes>"
            ],
            "image/png": "[encoded data removed]"
          },
          "metadata": {
            "needs_background": "light"
          }
        }
      ]
    },
    {
      "cell_type": "code",
      "source": [
        "a = np.array([[1, 2, 3], [1, 2, 3]])\n",
        "b = [0, 2, 1]\n",
        "print (a[:,b])"
      ],
      "metadata": {
        "colab": {
          "base_uri": "https://localhost:8080/"
        },
        "id": "iM3Emi1FKt84",
        "outputId": "7017564a-a35a-438e-f1a3-1935545b45b2"
      },
      "execution_count": 665,
      "outputs": [
        {
          "output_type": "stream",
          "name": "stdout",
          "text": [
            "[[1 3 2]\n",
            " [1 3 2]]\n"
          ]
        }
      ]
    },
    {
      "cell_type": "code",
      "source": [],
      "metadata": {
        "id": "LyC8MCOqLf1j"
      },
      "execution_count": 665,
      "outputs": []
    }
  ]
}